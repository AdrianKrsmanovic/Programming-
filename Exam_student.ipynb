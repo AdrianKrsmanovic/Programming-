{
 "cells": [
  {
   "cell_type": "markdown",
   "metadata": {},
   "source": [
    "# Exam R\n",
    "Mark Klik & Misja Mikkers\n",
    "\n",
    "# Introduction\n",
    "\n",
    "The exam consists of 2 parts. In the first part, you have to run a regression, test if the assumptions of a linear regression model are met, and make 2 graphs.\n",
    "\n",
    "In the second part of the exam, you will have to make a map of Catholic and Protestant schools in the Netherlands.\n",
    "\n",
    "# Packages\n"
   ]
  },
  {
   "cell_type": "code",
   "execution_count": 7,
   "metadata": {},
   "outputs": [
    {
     "ename": "ERROR",
     "evalue": "Error in library(gvlma): there is no package called 'gvlma'\n",
     "output_type": "error",
     "traceback": [
      "Error in library(gvlma): there is no package called 'gvlma'\nTraceback:\n",
      "1. library(gvlma)",
      "2. stop(txt, domain = NA)"
     ]
    }
   ],
   "source": [
    "library(tidyverse)\n",
    "library(gvlma)"
   ]
  },
  {
   "cell_type": "markdown",
   "metadata": {},
   "source": [
    "# Assignment 1\n",
    "\n",
    "\n",
    "## Data\n",
    "\n",
    "The data are given:\n"
   ]
  },
  {
   "cell_type": "code",
   "execution_count": 8,
   "metadata": {},
   "outputs": [
    {
     "data": {
      "text/html": [
       "<table>\n",
       "<thead><tr><th scope=col>V1</th><th scope=col>epsilon</th><th scope=col>response</th><th scope=col>group</th></tr></thead>\n",
       "<tbody>\n",
       "\t<tr><td>3.588198   </td><td>-3.37338662</td><td> -7.5497820</td><td>1          </td></tr>\n",
       "\t<tr><td>8.094746   </td><td> 1.67557409</td><td>-11.5139183</td><td>2          </td></tr>\n",
       "\t<tr><td>4.680792   </td><td> 0.30674624</td><td> -6.0548384</td><td>1          </td></tr>\n",
       "\t<tr><td>8.947157   </td><td>-2.27627387</td><td>-17.1705871</td><td>2          </td></tr>\n",
       "\t<tr><td>9.464206   </td><td> 2.50762984</td><td>-13.4207813</td><td>2          </td></tr>\n",
       "\t<tr><td>1.410008   </td><td> 0.85292844</td><td>  1.0329115</td><td>1          </td></tr>\n",
       "\t<tr><td>5.752949   </td><td>-0.59014297</td><td> -9.0960418</td><td>2          </td></tr>\n",
       "\t<tr><td>9.031771   </td><td> 1.79025132</td><td>-13.2732915</td><td>2          </td></tr>\n",
       "\t<tr><td>5.962915   </td><td> 1.75626698</td><td> -7.1695633</td><td>2          </td></tr>\n",
       "\t<tr><td>5.109533   </td><td> 1.64316216</td><td> -5.5759031</td><td>2          </td></tr>\n",
       "\t<tr><td>9.611500   </td><td> 1.37728051</td><td>-14.8457197</td><td>2          </td></tr>\n",
       "\t<tr><td>5.080007   </td><td> 1.10783531</td><td> -6.0521795</td><td>2          </td></tr>\n",
       "\t<tr><td>7.098136   </td><td>-0.12382342</td><td>-11.3200949</td><td>2          </td></tr>\n",
       "\t<tr><td>6.153701   </td><td>-0.61192533</td><td> -9.9193266</td><td>2          </td></tr>\n",
       "\t<tr><td>1.926322   </td><td>-0.76094200</td><td> -1.6135863</td><td>1          </td></tr>\n",
       "\t<tr><td>9.098425   </td><td>-1.38941396</td><td>-16.5862634</td><td>2          </td></tr>\n",
       "\t<tr><td>3.214790   </td><td>-0.41583456</td><td> -3.8454138</td><td>1          </td></tr>\n",
       "\t<tr><td>1.378536   </td><td>-2.53079270</td><td> -2.2878643</td><td>1          </td></tr>\n",
       "\t<tr><td>3.951286   </td><td> 4.33791193</td><td> -0.5646610</td><td>1          </td></tr>\n",
       "\t<tr><td>9.590533   </td><td> 2.41592400</td><td>-13.7651417</td><td>2          </td></tr>\n",
       "\t<tr><td>9.005854   </td><td>-2.24621717</td><td>-17.2579249</td><td>2          </td></tr>\n",
       "\t<tr><td>7.235231   </td><td>-0.80576967</td><td>-12.2762310</td><td>2          </td></tr>\n",
       "\t<tr><td>6.764561   </td><td>-0.93331071</td><td>-11.4624334</td><td>2          </td></tr>\n",
       "\t<tr><td>9.948428   </td><td> 1.55993024</td><td>-15.3369257</td><td>2          </td></tr>\n",
       "\t<tr><td>6.901352   </td><td>-0.16673813</td><td>-10.9694425</td><td>2          </td></tr>\n",
       "\t<tr><td>7.376774   </td><td> 0.50663703</td><td>-11.2469114</td><td>2          </td></tr>\n",
       "\t<tr><td>5.896594   </td><td>-0.05709351</td><td> -8.8502820</td><td>2          </td></tr>\n",
       "\t<tr><td>6.347278   </td><td>-0.08574091</td><td> -9.7802973</td><td>2          </td></tr>\n",
       "\t<tr><td>3.602438   </td><td> 2.73720457</td><td> -1.4676707</td><td>1          </td></tr>\n",
       "\t<tr><td>2.324023   </td><td>-0.45154197</td><td> -2.0995876</td><td>1          </td></tr>\n",
       "\t<tr><td>9.667218   </td><td> 3.03294121</td><td>-13.3014950</td><td>2          </td></tr>\n",
       "\t<tr><td>9.120691   </td><td>-3.09750561</td><td>-18.3388884</td><td>2          </td></tr>\n",
       "\t<tr><td>7.216348   </td><td> 1.16922750</td><td>-10.2634675</td><td>2          </td></tr>\n",
       "\t<tr><td>8.159207   </td><td> 0.24770849</td><td>-13.0707050</td><td>2          </td></tr>\n",
       "\t<tr><td>1.221523   </td><td> 0.43188314</td><td>  0.9888368</td><td>1          </td></tr>\n",
       "\t<tr><td>5.300164   </td><td> 0.75927897</td><td> -6.8410485</td><td>2          </td></tr>\n",
       "\t<tr><td>7.826136   </td><td>-1.00464691</td><td>-13.6569186</td><td>2          </td></tr>\n",
       "\t<tr><td>2.947671   </td><td>-0.66641477</td><td> -3.5617576</td><td>1          </td></tr>\n",
       "\t<tr><td>3.863629   </td><td>-2.03715077</td><td> -6.7644089</td><td>1          </td></tr>\n",
       "\t<tr><td>3.084632   </td><td>-2.14358245</td><td> -5.3128466</td><td>1          </td></tr>\n",
       "\t<tr><td>2.285200   </td><td> 0.60705728</td><td> -0.9633431</td><td>1          </td></tr>\n",
       "\t<tr><td>4.730917   </td><td> 0.89641956</td><td> -5.5654145</td><td>1          </td></tr>\n",
       "\t<tr><td>4.723519   </td><td> 0.10600845</td><td> -6.3410294</td><td>1          </td></tr>\n",
       "\t<tr><td>4.319609   </td><td> 1.84453494</td><td> -3.7946832</td><td>1          </td></tr>\n",
       "\t<tr><td>2.372003   </td><td> 4.10016937</td><td>  2.3561639</td><td>1          </td></tr>\n",
       "\t<tr><td>2.249255   </td><td>-0.98206233</td><td> -2.4805715</td><td>1          </td></tr>\n",
       "\t<tr><td>3.097307   </td><td>-4.61833775</td><td> -7.8129515</td><td>1          </td></tr>\n",
       "\t<tr><td>5.193662   </td><td> 2.01147705</td><td> -5.3758471</td><td>2          </td></tr>\n",
       "\t<tr><td>3.393754   </td><td>-1.41840153</td><td> -5.2059091</td><td>1          </td></tr>\n",
       "\t<tr><td>8.720449   </td><td>-1.37601723</td><td>-15.8169161</td><td>2          </td></tr>\n",
       "</tbody>\n",
       "</table>\n"
      ],
      "text/latex": [
       "\\begin{tabular}{r|llll}\n",
       " V1 & epsilon & response & group\\\\\n",
       "\\hline\n",
       "\t 3.588198    & -3.37338662 &  -7.5497820 & 1          \\\\\n",
       "\t 8.094746    &  1.67557409 & -11.5139183 & 2          \\\\\n",
       "\t 4.680792    &  0.30674624 &  -6.0548384 & 1          \\\\\n",
       "\t 8.947157    & -2.27627387 & -17.1705871 & 2          \\\\\n",
       "\t 9.464206    &  2.50762984 & -13.4207813 & 2          \\\\\n",
       "\t 1.410008    &  0.85292844 &   1.0329115 & 1          \\\\\n",
       "\t 5.752949    & -0.59014297 &  -9.0960418 & 2          \\\\\n",
       "\t 9.031771    &  1.79025132 & -13.2732915 & 2          \\\\\n",
       "\t 5.962915    &  1.75626698 &  -7.1695633 & 2          \\\\\n",
       "\t 5.109533    &  1.64316216 &  -5.5759031 & 2          \\\\\n",
       "\t 9.611500    &  1.37728051 & -14.8457197 & 2          \\\\\n",
       "\t 5.080007    &  1.10783531 &  -6.0521795 & 2          \\\\\n",
       "\t 7.098136    & -0.12382342 & -11.3200949 & 2          \\\\\n",
       "\t 6.153701    & -0.61192533 &  -9.9193266 & 2          \\\\\n",
       "\t 1.926322    & -0.76094200 &  -1.6135863 & 1          \\\\\n",
       "\t 9.098425    & -1.38941396 & -16.5862634 & 2          \\\\\n",
       "\t 3.214790    & -0.41583456 &  -3.8454138 & 1          \\\\\n",
       "\t 1.378536    & -2.53079270 &  -2.2878643 & 1          \\\\\n",
       "\t 3.951286    &  4.33791193 &  -0.5646610 & 1          \\\\\n",
       "\t 9.590533    &  2.41592400 & -13.7651417 & 2          \\\\\n",
       "\t 9.005854    & -2.24621717 & -17.2579249 & 2          \\\\\n",
       "\t 7.235231    & -0.80576967 & -12.2762310 & 2          \\\\\n",
       "\t 6.764561    & -0.93331071 & -11.4624334 & 2          \\\\\n",
       "\t 9.948428    &  1.55993024 & -15.3369257 & 2          \\\\\n",
       "\t 6.901352    & -0.16673813 & -10.9694425 & 2          \\\\\n",
       "\t 7.376774    &  0.50663703 & -11.2469114 & 2          \\\\\n",
       "\t 5.896594    & -0.05709351 &  -8.8502820 & 2          \\\\\n",
       "\t 6.347278    & -0.08574091 &  -9.7802973 & 2          \\\\\n",
       "\t 3.602438    &  2.73720457 &  -1.4676707 & 1          \\\\\n",
       "\t 2.324023    & -0.45154197 &  -2.0995876 & 1          \\\\\n",
       "\t 9.667218    &  3.03294121 & -13.3014950 & 2          \\\\\n",
       "\t 9.120691    & -3.09750561 & -18.3388884 & 2          \\\\\n",
       "\t 7.216348    &  1.16922750 & -10.2634675 & 2          \\\\\n",
       "\t 8.159207    &  0.24770849 & -13.0707050 & 2          \\\\\n",
       "\t 1.221523    &  0.43188314 &   0.9888368 & 1          \\\\\n",
       "\t 5.300164    &  0.75927897 &  -6.8410485 & 2          \\\\\n",
       "\t 7.826136    & -1.00464691 & -13.6569186 & 2          \\\\\n",
       "\t 2.947671    & -0.66641477 &  -3.5617576 & 1          \\\\\n",
       "\t 3.863629    & -2.03715077 &  -6.7644089 & 1          \\\\\n",
       "\t 3.084632    & -2.14358245 &  -5.3128466 & 1          \\\\\n",
       "\t 2.285200    &  0.60705728 &  -0.9633431 & 1          \\\\\n",
       "\t 4.730917    &  0.89641956 &  -5.5654145 & 1          \\\\\n",
       "\t 4.723519    &  0.10600845 &  -6.3410294 & 1          \\\\\n",
       "\t 4.319609    &  1.84453494 &  -3.7946832 & 1          \\\\\n",
       "\t 2.372003    &  4.10016937 &   2.3561639 & 1          \\\\\n",
       "\t 2.249255    & -0.98206233 &  -2.4805715 & 1          \\\\\n",
       "\t 3.097307    & -4.61833775 &  -7.8129515 & 1          \\\\\n",
       "\t 5.193662    &  2.01147705 &  -5.3758471 & 2          \\\\\n",
       "\t 3.393754    & -1.41840153 &  -5.2059091 & 1          \\\\\n",
       "\t 8.720449    & -1.37601723 & -15.8169161 & 2          \\\\\n",
       "\\end{tabular}\n"
      ],
      "text/markdown": [
       "\n",
       "V1 | epsilon | response | group | \n",
       "|---|---|---|---|---|---|---|---|---|---|---|---|---|---|---|---|---|---|---|---|---|---|---|---|---|---|---|---|---|---|---|---|---|---|---|---|---|---|---|---|---|---|---|---|---|---|---|---|---|---|\n",
       "| 3.588198    | -3.37338662 |  -7.5497820 | 1           | \n",
       "| 8.094746    |  1.67557409 | -11.5139183 | 2           | \n",
       "| 4.680792    |  0.30674624 |  -6.0548384 | 1           | \n",
       "| 8.947157    | -2.27627387 | -17.1705871 | 2           | \n",
       "| 9.464206    |  2.50762984 | -13.4207813 | 2           | \n",
       "| 1.410008    |  0.85292844 |   1.0329115 | 1           | \n",
       "| 5.752949    | -0.59014297 |  -9.0960418 | 2           | \n",
       "| 9.031771    |  1.79025132 | -13.2732915 | 2           | \n",
       "| 5.962915    |  1.75626698 |  -7.1695633 | 2           | \n",
       "| 5.109533    |  1.64316216 |  -5.5759031 | 2           | \n",
       "| 9.611500    |  1.37728051 | -14.8457197 | 2           | \n",
       "| 5.080007    |  1.10783531 |  -6.0521795 | 2           | \n",
       "| 7.098136    | -0.12382342 | -11.3200949 | 2           | \n",
       "| 6.153701    | -0.61192533 |  -9.9193266 | 2           | \n",
       "| 1.926322    | -0.76094200 |  -1.6135863 | 1           | \n",
       "| 9.098425    | -1.38941396 | -16.5862634 | 2           | \n",
       "| 3.214790    | -0.41583456 |  -3.8454138 | 1           | \n",
       "| 1.378536    | -2.53079270 |  -2.2878643 | 1           | \n",
       "| 3.951286    |  4.33791193 |  -0.5646610 | 1           | \n",
       "| 9.590533    |  2.41592400 | -13.7651417 | 2           | \n",
       "| 9.005854    | -2.24621717 | -17.2579249 | 2           | \n",
       "| 7.235231    | -0.80576967 | -12.2762310 | 2           | \n",
       "| 6.764561    | -0.93331071 | -11.4624334 | 2           | \n",
       "| 9.948428    |  1.55993024 | -15.3369257 | 2           | \n",
       "| 6.901352    | -0.16673813 | -10.9694425 | 2           | \n",
       "| 7.376774    |  0.50663703 | -11.2469114 | 2           | \n",
       "| 5.896594    | -0.05709351 |  -8.8502820 | 2           | \n",
       "| 6.347278    | -0.08574091 |  -9.7802973 | 2           | \n",
       "| 3.602438    |  2.73720457 |  -1.4676707 | 1           | \n",
       "| 2.324023    | -0.45154197 |  -2.0995876 | 1           | \n",
       "| 9.667218    |  3.03294121 | -13.3014950 | 2           | \n",
       "| 9.120691    | -3.09750561 | -18.3388884 | 2           | \n",
       "| 7.216348    |  1.16922750 | -10.2634675 | 2           | \n",
       "| 8.159207    |  0.24770849 | -13.0707050 | 2           | \n",
       "| 1.221523    |  0.43188314 |   0.9888368 | 1           | \n",
       "| 5.300164    |  0.75927897 |  -6.8410485 | 2           | \n",
       "| 7.826136    | -1.00464691 | -13.6569186 | 2           | \n",
       "| 2.947671    | -0.66641477 |  -3.5617576 | 1           | \n",
       "| 3.863629    | -2.03715077 |  -6.7644089 | 1           | \n",
       "| 3.084632    | -2.14358245 |  -5.3128466 | 1           | \n",
       "| 2.285200    |  0.60705728 |  -0.9633431 | 1           | \n",
       "| 4.730917    |  0.89641956 |  -5.5654145 | 1           | \n",
       "| 4.723519    |  0.10600845 |  -6.3410294 | 1           | \n",
       "| 4.319609    |  1.84453494 |  -3.7946832 | 1           | \n",
       "| 2.372003    |  4.10016937 |   2.3561639 | 1           | \n",
       "| 2.249255    | -0.98206233 |  -2.4805715 | 1           | \n",
       "| 3.097307    | -4.61833775 |  -7.8129515 | 1           | \n",
       "| 5.193662    |  2.01147705 |  -5.3758471 | 2           | \n",
       "| 3.393754    | -1.41840153 |  -5.2059091 | 1           | \n",
       "| 8.720449    | -1.37601723 | -15.8169161 | 2           | \n",
       "\n",
       "\n"
      ],
      "text/plain": [
       "   V1       epsilon     response    group\n",
       "1  3.588198 -3.37338662  -7.5497820 1    \n",
       "2  8.094746  1.67557409 -11.5139183 2    \n",
       "3  4.680792  0.30674624  -6.0548384 1    \n",
       "4  8.947157 -2.27627387 -17.1705871 2    \n",
       "5  9.464206  2.50762984 -13.4207813 2    \n",
       "6  1.410008  0.85292844   1.0329115 1    \n",
       "7  5.752949 -0.59014297  -9.0960418 2    \n",
       "8  9.031771  1.79025132 -13.2732915 2    \n",
       "9  5.962915  1.75626698  -7.1695633 2    \n",
       "10 5.109533  1.64316216  -5.5759031 2    \n",
       "11 9.611500  1.37728051 -14.8457197 2    \n",
       "12 5.080007  1.10783531  -6.0521795 2    \n",
       "13 7.098136 -0.12382342 -11.3200949 2    \n",
       "14 6.153701 -0.61192533  -9.9193266 2    \n",
       "15 1.926322 -0.76094200  -1.6135863 1    \n",
       "16 9.098425 -1.38941396 -16.5862634 2    \n",
       "17 3.214790 -0.41583456  -3.8454138 1    \n",
       "18 1.378536 -2.53079270  -2.2878643 1    \n",
       "19 3.951286  4.33791193  -0.5646610 1    \n",
       "20 9.590533  2.41592400 -13.7651417 2    \n",
       "21 9.005854 -2.24621717 -17.2579249 2    \n",
       "22 7.235231 -0.80576967 -12.2762310 2    \n",
       "23 6.764561 -0.93331071 -11.4624334 2    \n",
       "24 9.948428  1.55993024 -15.3369257 2    \n",
       "25 6.901352 -0.16673813 -10.9694425 2    \n",
       "26 7.376774  0.50663703 -11.2469114 2    \n",
       "27 5.896594 -0.05709351  -8.8502820 2    \n",
       "28 6.347278 -0.08574091  -9.7802973 2    \n",
       "29 3.602438  2.73720457  -1.4676707 1    \n",
       "30 2.324023 -0.45154197  -2.0995876 1    \n",
       "31 9.667218  3.03294121 -13.3014950 2    \n",
       "32 9.120691 -3.09750561 -18.3388884 2    \n",
       "33 7.216348  1.16922750 -10.2634675 2    \n",
       "34 8.159207  0.24770849 -13.0707050 2    \n",
       "35 1.221523  0.43188314   0.9888368 1    \n",
       "36 5.300164  0.75927897  -6.8410485 2    \n",
       "37 7.826136 -1.00464691 -13.6569186 2    \n",
       "38 2.947671 -0.66641477  -3.5617576 1    \n",
       "39 3.863629 -2.03715077  -6.7644089 1    \n",
       "40 3.084632 -2.14358245  -5.3128466 1    \n",
       "41 2.285200  0.60705728  -0.9633431 1    \n",
       "42 4.730917  0.89641956  -5.5654145 1    \n",
       "43 4.723519  0.10600845  -6.3410294 1    \n",
       "44 4.319609  1.84453494  -3.7946832 1    \n",
       "45 2.372003  4.10016937   2.3561639 1    \n",
       "46 2.249255 -0.98206233  -2.4805715 1    \n",
       "47 3.097307 -4.61833775  -7.8129515 1    \n",
       "48 5.193662  2.01147705  -5.3758471 2    \n",
       "49 3.393754 -1.41840153  -5.2059091 1    \n",
       "50 8.720449 -1.37601723 -15.8169161 2    "
      ]
     },
     "metadata": {},
     "output_type": "display_data"
    }
   ],
   "source": [
    "set.seed(123)\n",
    "df1 <- as.data.frame(matrix(runif(1*50, min = 1, max = 10), ncol = 1)) %>%\n",
    "    mutate(epsilon = rnorm(50, mean = 0, sd = 2)) %>%\n",
    "    mutate(response = 3 - 2* V1  + epsilon) %>%\n",
    "    mutate(group = ifelse(V1 <= 5, 1,2))\n",
    "\n",
    "df1"
   ]
  },
  {
   "cell_type": "markdown",
   "metadata": {},
   "source": [
    "## Asignment 1a\n",
    "\n",
    "The first assigment is to make boxplot using ggplot with group on the x-axis and V1 on the y-axis."
   ]
  },
  {
   "cell_type": "code",
   "execution_count": 9,
   "metadata": {},
   "outputs": [
    {
     "data": {},
     "metadata": {},
     "output_type": "display_data"
    },
    {
     "data": {
      "image/png": "[encoded data removed]",
      "text/plain": [
       "plot without title"
      ]
     },
     "metadata": {},
     "output_type": "display_data"
    }
   ],
   "source": [
    "plot <- ggplot(data = df1, aes(x = group,y = V1)) + geom_boxplot(aes(group=group))\n",
    "plot"
   ]
  },
  {
   "cell_type": "markdown",
   "metadata": {},
   "source": [
    "## Assignment 1b\n",
    "\n",
    "Run a regression with response variable as a function of V1.\n",
    "Show the summary statistics of the regression.\n"
   ]
  },
  {
   "cell_type": "code",
   "execution_count": 10,
   "metadata": {},
   "outputs": [
    {
     "data": {
      "text/plain": [
       "\n",
       "Call:\n",
       "lm(formula = response ~ V1, data = df1)\n",
       "\n",
       "Residuals:\n",
       "    Min      1Q  Median      3Q     Max \n",
       "-4.5116 -1.1157 -0.1313  1.0985  4.3723 \n",
       "\n",
       "Coefficients:\n",
       "            Estimate Std. Error t value Pr(>|t|)    \n",
       "(Intercept)   2.6305     0.6347   4.145 0.000138 ***\n",
       "V1           -1.9152     0.1014 -18.880  < 2e-16 ***\n",
       "---\n",
       "Signif. codes:  0 '***' 0.001 '**' 0.01 '*' 0.05 '.' 0.1 ' ' 1\n",
       "\n",
       "Residual standard error: 1.881 on 48 degrees of freedom\n",
       "Multiple R-squared:  0.8813,\tAdjusted R-squared:  0.8788 \n",
       "F-statistic: 356.4 on 1 and 48 DF,  p-value: < 2.2e-16\n"
      ]
     },
     "metadata": {},
     "output_type": "display_data"
    }
   ],
   "source": [
    "reg1 <- lm(data = df1, response ~ V1)\n",
    "summary(reg1)"
   ]
  },
  {
   "cell_type": "markdown",
   "metadata": {},
   "source": [
    "check if the assumptions of linear regression are met with the `gvlma()` function."
   ]
  },
  {
   "cell_type": "code",
   "execution_count": 11,
   "metadata": {},
   "outputs": [
    {
     "ename": "ERROR",
     "evalue": "Error in gvlma(reg1): could not find function \"gvlma\"\n",
     "output_type": "error",
     "traceback": [
      "Error in gvlma(reg1): could not find function \"gvlma\"\nTraceback:\n"
     ]
    }
   ],
   "source": [
    "gvlma(reg1)"
   ]
  },
  {
   "cell_type": "markdown",
   "metadata": {},
   "source": [
    "## Assignment 1c\n",
    "\n",
    "Make a scatterplot with: \n",
    "* V1 on the x-axis and the response on the y-axis\n",
    "* Include the regression line in red with confidence interval \n",
    "* In a classic theme\n",
    "* The x-axis should be labeled \"Predictor\", the y-axis should be labeled (\"Response\")\n",
    "\n"
   ]
  },
  {
   "cell_type": "code",
   "execution_count": 12,
   "metadata": {},
   "outputs": [
    {
     "data": {},
     "metadata": {},
     "output_type": "display_data"
    },
    {
     "data": {
      "image/png": "[encoded data removed]",
      "text/plain": [
       "plot without title"
      ]
     },
     "metadata": {},
     "output_type": "display_data"
    }
   ],
   "source": [
    "p <- ggplot(df1, aes(x = V1, y = response)) +\n",
    "    geom_point(shape = 2) + geom_smooth(colour = \"red\", method = lm) +\n",
    "    xlab(\"Predictor\") + ylab(\"Response\") + \n",
    "    theme_classic() + scale_fill_manual(values = c(\"red\"))\n",
    "p"
   ]
  },
  {
   "cell_type": "markdown",
   "metadata": {},
   "source": [
    "# Assigment 2\n",
    "\n",
    "# Packages"
   ]
  },
  {
   "cell_type": "code",
   "execution_count": 13,
   "metadata": {},
   "outputs": [
    {
     "name": "stderr",
     "output_type": "stream",
     "text": [
      "Warning message:\n",
      "\"running command '\"C:/Users/adria/Anaconda3/lib/R/bin/x64/R\" CMD INSTALL -l \"C:\\Users\\adria\\Anaconda3\\Lib\\R\\library\" \"../Downloads//thematicmaps_2.1.tar.gz\"' had status 1\"Warning message in install.packages(\"../Downloads//thematicmaps_2.1.tar.gz\", repos = NULL, :\n",
      "\"installation of package '../Downloads//thematicmaps_2.1.tar.gz' had non-zero exit status\""
     ]
    },
    {
     "ename": "ERROR",
     "evalue": "Error in library(thematicmaps): there is no package called 'thematicmaps'\n",
     "output_type": "error",
     "traceback": [
      "Error in library(thematicmaps): there is no package called 'thematicmaps'\nTraceback:\n",
      "1. library(thematicmaps)",
      "2. stop(txt, domain = NA)"
     ]
    }
   ],
   "source": [
    "install.packages(\"../Downloads//thematicmaps_2.1.tar.gz\", repos=NULL,type=\"source\")\n",
    "    \n",
    "library(thematicmaps)\n",
    "library(tidyverse)"
   ]
  },
  {
   "cell_type": "markdown",
   "metadata": {},
   "source": [
    "## Assignment 2a\n",
    "\n",
    "First you have to read in the file \"nld_municipal_map.csv\".\n",
    "Hint: Look at the notebook of week 6 about maps."
   ]
  },
  {
   "cell_type": "code",
   "execution_count": 14,
   "metadata": {},
   "outputs": [
    {
     "name": "stderr",
     "output_type": "stream",
     "text": [
      "Warning message in file(file, \"rt\"):\n",
      "\"cannot open file '..Downloads/nld_municipal_map.csv': No such file or directory\""
     ]
    },
    {
     "ename": "ERROR",
     "evalue": "Error in file(file, \"rt\"): cannot open the connection\n",
     "output_type": "error",
     "traceback": [
      "Error in file(file, \"rt\"): cannot open the connection\nTraceback:\n",
      "1. read.csv2(\"..Downloads/nld_municipal_map.csv\", dec = \".\")",
      "2. read.table(file = file, header = header, sep = sep, quote = quote, \n .     dec = dec, fill = fill, comment.char = comment.char, ...)",
      "3. file(file, \"rt\")"
     ]
    }
   ],
   "source": [
    "map_municipal <- read.csv2(\"..Downloads/nld_municipal_map.csv\", dec = \".\")\n",
    "head(map_municipal)"
   ]
  },
  {
   "cell_type": "markdown",
   "metadata": {},
   "source": [
    "## Assignment 2b\n",
    "\n",
    "Now you can make an empty map of the Netherlands."
   ]
  },
  {
   "cell_type": "code",
   "execution_count": 15,
   "metadata": {},
   "outputs": [
    {
     "ename": "ERROR",
     "evalue": "Error in AddMapLayer(MapPlot(), map_municipal): could not find function \"AddMapLayer\"\n",
     "output_type": "error",
     "traceback": [
      "Error in AddMapLayer(MapPlot(), map_municipal): could not find function \"AddMapLayer\"\nTraceback:\n"
     ]
    }
   ],
   "source": [
    "AddMapLayer(MapPlot(), map_municipal)\n"
   ]
  },
  {
   "cell_type": "markdown",
   "metadata": {},
   "source": [
    "## Assignment 2c\n",
    "\n",
    "Read in the pc4 locations (nld_pc4_locations.csv).\n",
    "\n",
    "Hint: Don't forget the X and Y should be numeric variables!"
   ]
  },
  {
   "cell_type": "code",
   "execution_count": 16,
   "metadata": {},
   "outputs": [
    {
     "name": "stderr",
     "output_type": "stream",
     "text": [
      "Warning message in file(file, \"rt\"):\n",
      "\"cannot open file './nld_pc4_locations.csv': No such file or directory\""
     ]
    },
    {
     "ename": "ERROR",
     "evalue": "Error in file(file, \"rt\"): cannot open the connection\n",
     "output_type": "error",
     "traceback": [
      "Error in file(file, \"rt\"): cannot open the connection\nTraceback:\n",
      "1. read.csv2(\"./nld_pc4_locations.csv\")",
      "2. read.table(file = file, header = header, sep = sep, quote = quote, \n .     dec = dec, fill = fill, comment.char = comment.char, ...)",
      "3. file(file, \"rt\")"
     ]
    }
   ],
   "source": [
    "pc4_locations <- read.csv2(\"./nld_pc4_locations.csv\")\n",
    "\n",
    "head(pc4_locations)"
   ]
  },
  {
   "cell_type": "markdown",
   "metadata": {},
   "source": [
    "## Assignment 2d\n",
    "\n",
    "### 2di\n",
    "\n",
    "Read in the school data\n"
   ]
  },
  {
   "cell_type": "code",
   "execution_count": 4,
   "metadata": {},
   "outputs": [
    {
     "name": "stderr",
     "output_type": "stream",
     "text": [
      "Warning message in file(file, \"rt\"):\n",
      "\"cannot open file './schools.csv': No such file or directory\""
     ]
    },
    {
     "ename": "ERROR",
     "evalue": "Error in file(file, \"rt\"): cannot open the connection\n",
     "output_type": "error",
     "traceback": [
      "Error in file(file, \"rt\"): cannot open the connection\nTraceback:\n",
      "1. read.csv2(\"./schools.csv\")",
      "2. read.table(file = file, header = header, sep = sep, quote = quote, \n .     dec = dec, fill = fill, comment.char = comment.char, ...)",
      "3. file(file, \"rt\")"
     ]
    }
   ],
   "source": [
    "schools <- read.csv2(\"./schools.csv\")\n",
    "head(schools)"
   ]
  },
  {
   "cell_type": "markdown",
   "metadata": {},
   "source": [
    "### 2dii\n",
    "\n",
    "First, create a new dataframe schools1, which is equal to schools.\n",
    "\n",
    "As you see POSTCODE has a structure of (1234 AB). You should create a new variable PC4 that is equal to the first 4 numbers in POSTCODE\n",
    "\n",
    "Hint: Use the function `substr()`\n",
    "\n",
    "Then select the variables PC4 and DENOMINATIE"
   ]
  },
  {
   "cell_type": "code",
   "execution_count": 5,
   "metadata": {},
   "outputs": [
    {
     "ename": "ERROR",
     "evalue": "Error in eval(lhs, parent, parent): object 'schools' not found\n",
     "output_type": "error",
     "traceback": [
      "Error in eval(lhs, parent, parent): object 'schools' not found\nTraceback:\n",
      "1. schools %>% mutate(PC4 = substr(POSTCODE, 0, 4))",
      "2. eval(lhs, parent, parent)",
      "3. eval(lhs, parent, parent)"
     ]
    }
   ],
   "source": [
    "schools1 <- schools %>% mutate(PC4 = substr(POSTCODE, 0 , 4) )\n",
    "\n",
    "head(schools1)"
   ]
  },
  {
   "cell_type": "markdown",
   "metadata": {},
   "source": [
    "### 2diii\n",
    "\n",
    "Create the dataframe school_loc as a join from pc4_locations and school1 that combines the columns from both data frames, but only keeps rows where the value in the pc4_locations column matches in both data frames.\n",
    "And then select the observations with DENOMINATIE is equal to \"Rooms-Katholiek\" or \"Protestants-Christelijk\""
   ]
  },
  {
   "cell_type": "code",
   "execution_count": 6,
   "metadata": {},
   "outputs": [
    {
     "ename": "ERROR",
     "evalue": "Error in parse(text = x, srcfile = src): <text>:2:0: unexpected end of input\n1: school_loc <- \n   ^\n",
     "output_type": "error",
     "traceback": [
      "Error in parse(text = x, srcfile = src): <text>:2:0: unexpected end of input\n1: school_loc <- \n   ^\nTraceback:\n"
     ]
    }
   ],
   "source": [
    "school_loc <- "
   ]
  },
  {
   "cell_type": "markdown",
   "metadata": {},
   "source": [
    "## Assignment 2e\n",
    "\n",
    "Create a map of Catholic and Protestant schools in the Netherlands\n"
   ]
  },
  {
   "cell_type": "code",
   "execution_count": null,
   "metadata": {},
   "outputs": [],
   "source": [
    " "
   ]
  },
  {
   "cell_type": "markdown",
   "metadata": {},
   "source": [
    "End of notebook"
   ]
  }
 ],
 "metadata": {
  "anaconda-cloud": {},
  "kernelspec": {
   "display_name": "R",
   "language": "R",
   "name": "ir"
  },
  "language_info": {
   "codemirror_mode": "r",
   "file_extension": ".r",
   "mimetype": "text/x-r-source",
   "name": "R",
   "pygments_lexer": "r",
   "version": "3.4.3"
  }
 },
 "nbformat": 4,
 "nbformat_minor": 1
}
