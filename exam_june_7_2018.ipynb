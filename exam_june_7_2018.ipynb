{
 "cells": [
  {
   "cell_type": "markdown",
   "metadata": {},
   "source": [
    "Before you turn this problem in, make sure everything runs as expected. First, **restart the kernel** (in the menubar, select Kernel$\\rightarrow$Restart) and then **run all cells** (in the menubar, select Cell$\\rightarrow$Run All).\n",
    "\n",
    "Make sure you fill in any place that says `YOUR CODE HERE` or \"YOUR ANSWER HERE\", as well as your name and collaborators below:"
   ]
  },
  {
   "cell_type": "code",
   "execution_count": null,
   "metadata": {},
   "outputs": [],
   "source": [
    "NAME = \"Adrian Krsmanovic\", #2003118#\n",
    "COLLABORATORS = \"Vuk Mijatovic\", #2009138#"
   ]
  },
  {
   "cell_type": "markdown",
   "metadata": {},
   "source": [
    "---"
   ]
  },
  {
   "cell_type": "markdown",
   "metadata": {},
   "source": [
    "Fill in the cell above to provide us with your name and student number, like\n",
    "\n",
    "NAME = \"Adam Smith, #student number#\"\n",
    "\n",
    "where you replace \"#student number#\" with your ... (very good!)\n",
    "\n",
    "and if you are doing this with someone else (not more than one other person):\n",
    "\n",
    "COLLABORATORS = \"Karl Marx, #student number#\""
   ]
  },
  {
   "cell_type": "markdown",
   "metadata": {
    "deletable": false,
    "editable": false,
    "nbgrader": {
     "checksum": "a7ae5c69becf064d614c6c38935eca51",
     "grade": false,
     "grade_id": "cell-895e9a7b94992ec9",
     "locked": true,
     "schema_version": 1,
     "solution": false
    }
   },
   "source": [
    "# exam June 7th, 2018\n"
   ]
  },
  {
   "cell_type": "markdown",
   "metadata": {
    "deletable": false,
    "editable": false,
    "nbgrader": {
     "checksum": "bc48d165f54aa364aa34509649fcdef5",
     "grade": false,
     "grade_id": "cell-540987818af25557",
     "locked": true,
     "schema_version": 1,
     "solution": false
    }
   },
   "source": [
    "\n",
    "In the first cell of the notebook, give us your name and student number in the way indicated above. If you do this notebook with --at max.-- one other student, give her/his name and student number as well under \"COLLABORATORS\".\n",
    "\n",
    "Fill in the notebook (see below for code cells and text cells that you need to fill in).\n",
    "\n",
    "If you look at the menus above (File, Edit, View etc.), there is one called \"Cell\". If you click on this, you can change the \"Cell Type\". Choose \"Code\" when you are typing python or R code. Choose \"Markdown\" when you are typing, well, markdown.\n",
    "\n",
    "When you finish the notebook, make sure that you **save it with the output of your code included**. \n",
    "\n",
    "Then put it on github, e.g. by dragging it onto github (see instructions below). \n",
    "\n",
    "Finally, add a link to your README file with the name of this exam: \"Exam June 7, 2018\".\n",
    "\n"
   ]
  },
  {
   "cell_type": "markdown",
   "metadata": {
    "deletable": false,
    "editable": false,
    "nbgrader": {
     "checksum": "6fad9bed312da1b0097e9c520b18e3fb",
     "grade": false,
     "grade_id": "cell-e1cf88cb799f1f43",
     "locked": true,
     "schema_version": 1,
     "solution": false
    }
   },
   "source": [
    "## price effects of mergers\n",
    "\n",
    "We consider a merger in this notebook. \n",
    "\n",
    "First we calculate the equilibrium with three firms, denoted by 1, 2 and 3. Then firms 2 and 3 merge so that we are left with 2 firms; denoted by 1 and 2.\n",
    "\n",
    "We calculate the effects of the merger on the equilibrium price.\n",
    "\n",
    "We start by importing the usual libraries."
   ]
  },
  {
   "cell_type": "code",
   "execution_count": 1,
   "metadata": {
    "deletable": false,
    "editable": false,
    "nbgrader": {
     "checksum": "7bd770ef54db47c3b6c8d0e31f6baef6",
     "grade": false,
     "grade_id": "cell-b895769bf40e183a",
     "locked": true,
     "schema_version": 1,
     "solution": false
    }
   },
   "outputs": [],
   "source": [
    "import matplotlib.pyplot as plt\n",
    "import pandas as pd\n",
    "import numpy as np\n",
    "from scipy import optimize\n",
    "%matplotlib inline"
   ]
  },
  {
   "cell_type": "markdown",
   "metadata": {},
   "source": [
    "The following code helps to calculate the equilibrium for the case with 3 firms. Note that you have seen similar code during the tutorials to calculate the equilibrium with 2 firms.\n",
    "\n",
    "We assume that before the merger each firm has constant marginal costs equal to 0.3. We assume a simple linear (inverse) demand curve of the form $p=1-Q$ where $p$ denotes price and $Q$ total output on the market. Total output equals the sum of each firm's output: $Q= q_1 + q_2+q_3$."
   ]
  },
  {
   "cell_type": "code",
   "execution_count": 2,
   "metadata": {
    "deletable": false,
    "editable": false,
    "nbgrader": {
     "checksum": "3e30f7ac9d9155ef089b8ca56a0c0436",
     "grade": false,
     "grade_id": "cell-f97a25efed556fd2",
     "locked": true,
     "schema_version": 1,
     "solution": false
    }
   },
   "outputs": [],
   "source": [
    "c0 = 0.3\n",
    "vector_c = [c0]*3\n",
    "\n",
    "def p(Q):\n",
    "    return 1 - Q\n",
    "\n",
    "def costs(q,c):\n",
    "    return c*q\n",
    "\n",
    "def profits(q,Q_other,c):\n",
    "    return p(q+Q_other)*q-costs(q,c)\n",
    "\n",
    "def reaction(Q_other,c):\n",
    "    q1 =  optimize.fminbound(lambda x: -profits(x,Q_other,c),0,1,full_output=1)\n",
    "    return q1[0]\n",
    "\n",
    "def fixed_point_three_firms(vector_q,vector_c):\n",
    "    return [vector_q[0]-reaction(vector_q[1]+vector_q[2],vector_c[0]),\n",
    "            vector_q[1]-reaction(vector_q[0]+vector_q[2],vector_c[1]),\n",
    "            vector_q[2]-reaction(vector_q[0]+vector_q[1],vector_c[2])]\n",
    "\n"
   ]
  },
  {
   "cell_type": "markdown",
   "metadata": {
    "deletable": false,
    "editable": false,
    "nbgrader": {
     "checksum": "f6ea3b2416aca7293a5450c45865f242",
     "grade": false,
     "grade_id": "cell-83284c4090d6de8c",
     "locked": true,
     "schema_version": 1,
     "solution": false
    }
   },
   "source": [
    "#### a) [0.5 points] Show that total equilibrium output equals  0.525. Derive the equilibrium price and Herfindahl index; denote these by `P0` and `H0` resp."
   ]
  },
  {
   "cell_type": "code",
   "execution_count": 3,
   "metadata": {
    "deletable": false,
    "nbgrader": {
     "checksum": "a06d73c35395adb00480733b458cb4a5",
     "grade": true,
     "grade_id": "cell-3b8ee172d9950128",
     "locked": false,
     "points": 0.5,
     "schema_version": 1,
     "solution": true
    }
   },
   "outputs": [
    {
     "name": "stdout",
     "output_type": "stream",
     "text": [
      "0.475\n",
      "0.32670000000000005\n",
      "0.525\n"
     ]
    }
   ],
   "source": [
    "# YOUR CODE HERE\n",
    "init_guess = [0, 0, 0]\n",
    "\n",
    "quantity_first_firm = optimize.fsolve(lambda vector_q: fixed_point_three_firms(vector_q, vector_c), init_guess)\n",
    "total_equilibrium = quantity_first_firm[0] + quantity_first_firm[1] +quantity_first_firm[2]\n",
    "\n",
    "P0 = p(.525)\n",
    "H0 = 0.33**2 + 0.33**2 + 0.33**2\n",
    "\n",
    "print(P0)\n",
    "print(H0)\n",
    "print(total_equilibrium)\n"
   ]
  },
  {
   "cell_type": "markdown",
   "metadata": {
    "deletable": false,
    "editable": false,
    "nbgrader": {
     "checksum": "87b3b3e0e2d645c280e279312e489dc4",
     "grade": false,
     "grade_id": "cell-4b33762aa4a601fe",
     "locked": true,
     "schema_version": 1,
     "solution": false
    }
   },
   "source": [
    "#### b) [0.5 point] Define a function `fixed_point_two_firms` with the same structure as the function `fixed_point_three_firms` above, except that it derives the equilibrium output levels for a duopoly (two firms). Test this function by showing that each of the two firms produces 0.3333 in case both firms have zero costs."
   ]
  },
  {
   "cell_type": "code",
   "execution_count": 4,
   "metadata": {
    "deletable": false,
    "nbgrader": {
     "checksum": "024a1519155d681b57c85292df535a65",
     "grade": true,
     "grade_id": "cell-5ee215676b91f504",
     "locked": false,
     "points": 0.5,
     "schema_version": 1,
     "solution": true
    }
   },
   "outputs": [
    {
     "name": "stdout",
     "output_type": "stream",
     "text": [
      "[0.33333333 0.33333333]\n",
      "[0, 0]\n"
     ]
    }
   ],
   "source": [
    "# YOUR CODE HERE\n",
    "def fixed_point_two_firms(vector_q,vector_c):\n",
    "    return [vector_q[0]-reaction(vector_q[1],vector_c[0]),\n",
    "            vector_q[1]-reaction(vector_q[0],vector_c[1])]\n",
    "\n",
    "initial_guess = [0, 0]\n",
    "\n",
    "quntity_two_firms = optimize.fsolve(lambda vector_q: fixed_point_two_firms(vector_q, initial_guess), initial_guess)\n",
    "print (quntity_two_firms)\n",
    "print(initial_guess)\n"
   ]
  },
  {
   "cell_type": "markdown",
   "metadata": {
    "deletable": false,
    "editable": false,
    "nbgrader": {
     "checksum": "5291fc8716e367572fde17ebe5844d2f",
     "grade": false,
     "grade_id": "cell-c2fada02efd7b197",
     "locked": true,
     "schema_version": 1,
     "solution": false
    }
   },
   "source": [
    "The Dutch competition authority, ACM, is asked to evaluate the effects of a merger between firms 2 and 3. Firms 2 and 3 claim that by merging they can reduce their constant marginal costs. But it is not clear by how much they will reduce their costs.\n",
    "\n",
    "The ACM assumes that the marginal cost level of the merged firm is uniformly distributed between 0 and the current marginal cost level `c0`. The merger will not affect the marginal cost level of firm 1 who does not merge. Firm 1's cost level remains `c0`.\n",
    "\n",
    "The next cell generates a vector of cost levels for the merged firm, denoted `c_after_merger`. Evaluate \"c_after_merger\" in a separate cell if you do not understand the command that defines it.\n",
    "\n",
    "Then it calculates the equilibrium output levels for (the non-merging) firm 1 and (the merged) firm 2.\n",
    "\n",
    "Note that you need to specify `initial_guess`.\n"
   ]
  },
  {
   "cell_type": "code",
   "execution_count": 5,
   "metadata": {
    "deletable": false,
    "editable": false,
    "nbgrader": {
     "checksum": "11299317cd53e31de9900700999b0324",
     "grade": false,
     "grade_id": "cell-ce91ab3e3225c57d",
     "locked": true,
     "schema_version": 1,
     "solution": false
    }
   },
   "outputs": [],
   "source": [
    "c_after_merger = np.random.uniform(0,c0,size = 100)\n",
    "\n",
    "q1_after_merger = [optimize.fsolve(lambda q: fixed_point_two_firms(q,[c0,c]), initial_guess)[0] for c in c_after_merger]\n",
    "q2_after_merger = [optimize.fsolve(lambda q: fixed_point_two_firms(q,[c0,c]), initial_guess)[1] for c in c_after_merger]\n",
    "\n",
    "\n"
   ]
  },
  {
   "cell_type": "markdown",
   "metadata": {
    "deletable": false,
    "editable": false,
    "nbgrader": {
     "checksum": "2b518306d6ff20ee42d0bc3085333095",
     "grade": false,
     "grade_id": "cell-0acc18b4f07a09f4",
     "locked": true,
     "schema_version": 1,
     "solution": false
    }
   },
   "source": [
    "#### c) [0.5 points] Create a dataframe called `df_after_merger` with three columns: `c_merged_firm`, `output_non_merging_firm`, `output_merged_firm` containing resp. the cost level of the merged firm, the output level of firm 1 and the output level of firm 2."
   ]
  },
  {
   "cell_type": "code",
   "execution_count": 6,
   "metadata": {
    "deletable": false,
    "nbgrader": {
     "checksum": "f4fc6a3bdef91fa3f656ccd3290c9f54",
     "grade": true,
     "grade_id": "cell-f3eacda828774f2d",
     "locked": false,
     "points": 0.5,
     "schema_version": 1,
     "solution": true
    }
   },
   "outputs": [
    {
     "name": "stdout",
     "output_type": "stream",
     "text": [
      "    c_merged_firm  output_non_merging_firm  output_merged_firm\n",
      "0            0.00                 0.199713            0.300574\n",
      "1            0.01                 0.184293            0.331414\n",
      "2            0.02                 0.186404            0.327191\n",
      "3            0.03                 0.187364            0.325272\n",
      "4            0.04                 0.219300            0.261401\n",
      "5            0.05                 0.200844            0.298312\n",
      "6            0.06                 0.218083            0.263834\n",
      "7            0.07                 0.151978            0.396043\n",
      "8            0.08                 0.202216            0.295568\n",
      "9            0.09                 0.204988            0.290023\n",
      "10           0.10                 0.204709            0.290582\n",
      "11           0.11                 0.205221            0.289558\n",
      "12           0.12                 0.192338            0.315325\n",
      "13           0.13                 0.139422            0.421156\n",
      "14           0.14                 0.210070            0.279859\n",
      "15           0.15                 0.221876            0.256249\n",
      "16           0.16                 0.146712            0.406576\n",
      "17           0.17                 0.161868            0.376263\n",
      "18           0.18                 0.222722            0.254556\n",
      "19           0.19                 0.210910            0.278181\n",
      "20           0.20                 0.203175            0.293651\n",
      "21           0.21                 0.231252            0.237495\n",
      "22           0.22                 0.223672            0.252655\n",
      "23           0.23                 0.191513            0.316974\n",
      "24           0.24                 0.182167            0.335667\n",
      "25           0.25                 0.210177            0.279647\n",
      "26           0.26                 0.195122            0.309756\n",
      "27           0.27                 0.218452            0.263096\n",
      "28           0.28                 0.168136            0.363729\n",
      "29           0.29                 0.224029            0.251941\n",
      "30           0.30                 0.206286            0.287427\n",
      "31           0.31                 0.162788            0.374423\n",
      "32           0.32                 0.148935            0.402130\n",
      "33           0.33                 0.177775            0.344449\n",
      "34           0.34                 0.161684            0.376633\n",
      "35           0.35                 0.146017            0.407967\n",
      "36           0.36                 0.205381            0.289238\n",
      "37           0.37                 0.148098            0.403804\n",
      "38           0.38                 0.165519            0.368963\n",
      "39           0.39                 0.159943            0.380114\n",
      "40           0.40                 0.153237            0.393527\n",
      "41           0.41                 0.164881            0.370238\n",
      "42           0.42                 0.197841            0.304318\n",
      "43           0.43                 0.224143            0.251713\n",
      "44           0.44                 0.137994            0.424012\n",
      "45           0.45                 0.219720            0.260560\n",
      "46           0.46                 0.151699            0.396601\n",
      "47           0.47                 0.203431            0.293138\n",
      "48           0.48                 0.174214            0.351571\n",
      "49           0.49                 0.224032            0.251935\n"
     ]
    }
   ],
   "source": [
    "# YOUR CODE HERE\n",
    "import numpy as np\n",
    "initial_guess = [0, 0, 0]\n",
    "\n",
    "df_after_merger = pd.DataFrame(columns = [\"c_merged_firm\", \"output_non_merging_firm\", \"output_merged_firm\"])\n",
    "\n",
    "c_am_firm2_firm1 = np.arange(0, .51, .01)\n",
    "\n",
    "for i in range(0, 50):\n",
    "    df_after_merger.loc[i] = [c_am_firm2_firm1[i], q1_after_merger[i],  q2_after_merger[i]]\n",
    "\n",
    "print(df_after_merger)"
   ]
  },
  {
   "cell_type": "markdown",
   "metadata": {
    "deletable": false,
    "editable": false,
    "nbgrader": {
     "checksum": "a5bf4171960844da9c57375d83b6eedf",
     "grade": false,
     "grade_id": "cell-7ad058be42e19df8",
     "locked": true,
     "schema_version": 1,
     "solution": false
    }
   },
   "source": [
    "#### d) [0.5 points] Add three columns to the dataframe with resp. total equilibrium output on the market, `Q`, equilibrium price, `P` and the Herfindahl index, `H`."
   ]
  },
  {
   "cell_type": "code",
   "execution_count": 7,
   "metadata": {
    "deletable": false,
    "nbgrader": {
     "checksum": "ab6179623b39a6ae634abea45326e4ab",
     "grade": true,
     "grade_id": "cell-9c39b11747803ca1",
     "locked": false,
     "points": 0.5,
     "schema_version": 1,
     "solution": true
    }
   },
   "outputs": [
    {
     "name": "stdout",
     "output_type": "stream",
     "text": [
      "    c_merged_firm  output_non_merging_firm  output_merged_firm         Q  \\\n",
      "0            0.00                 0.199713            0.300574  0.500287   \n",
      "1            0.01                 0.184293            0.331414  0.515707   \n",
      "2            0.02                 0.186404            0.327191  0.513596   \n",
      "3            0.03                 0.187364            0.325272  0.512636   \n",
      "4            0.04                 0.219300            0.261401  0.480700   \n",
      "5            0.05                 0.200844            0.298312  0.499156   \n",
      "6            0.06                 0.218083            0.263834  0.481917   \n",
      "7            0.07                 0.151978            0.396043  0.548022   \n",
      "8            0.08                 0.202216            0.295568  0.497784   \n",
      "9            0.09                 0.204988            0.290023  0.495012   \n",
      "10           0.10                 0.204709            0.290582  0.495291   \n",
      "11           0.11                 0.205221            0.289558  0.494779   \n",
      "12           0.12                 0.192338            0.315325  0.507662   \n",
      "13           0.13                 0.139422            0.421156  0.560578   \n",
      "14           0.14                 0.210070            0.279859  0.489930   \n",
      "15           0.15                 0.221876            0.256249  0.478124   \n",
      "16           0.16                 0.146712            0.406576  0.553288   \n",
      "17           0.17                 0.161868            0.376263  0.538132   \n",
      "18           0.18                 0.222722            0.254556  0.477278   \n",
      "19           0.19                 0.210910            0.278181  0.489090   \n",
      "20           0.20                 0.203175            0.293651  0.496825   \n",
      "21           0.21                 0.231252            0.237495  0.468748   \n",
      "22           0.22                 0.223672            0.252655  0.476328   \n",
      "23           0.23                 0.191513            0.316974  0.508487   \n",
      "24           0.24                 0.182167            0.335667  0.517833   \n",
      "25           0.25                 0.210177            0.279647  0.489823   \n",
      "26           0.26                 0.195122            0.309756  0.504878   \n",
      "27           0.27                 0.218452            0.263096  0.481548   \n",
      "28           0.28                 0.168136            0.363729  0.531864   \n",
      "29           0.29                 0.224029            0.251941  0.475971   \n",
      "30           0.30                 0.206286            0.287427  0.493714   \n",
      "31           0.31                 0.162788            0.374423  0.537212   \n",
      "32           0.32                 0.148935            0.402130  0.551065   \n",
      "33           0.33                 0.177775            0.344449  0.522225   \n",
      "34           0.34                 0.161684            0.376633  0.538316   \n",
      "35           0.35                 0.146017            0.407967  0.553983   \n",
      "36           0.36                 0.205381            0.289238  0.494619   \n",
      "37           0.37                 0.148098            0.403804  0.551902   \n",
      "38           0.38                 0.165519            0.368963  0.534481   \n",
      "39           0.39                 0.159943            0.380114  0.540057   \n",
      "40           0.40                 0.153237            0.393527  0.546763   \n",
      "41           0.41                 0.164881            0.370238  0.535119   \n",
      "42           0.42                 0.197841            0.304318  0.502159   \n",
      "43           0.43                 0.224143            0.251713  0.475857   \n",
      "44           0.44                 0.137994            0.424012  0.562006   \n",
      "45           0.45                 0.219720            0.260560  0.480280   \n",
      "46           0.46                 0.151699            0.396601  0.548301   \n",
      "47           0.47                 0.203431            0.293138  0.496569   \n",
      "48           0.48                 0.174214            0.351571  0.525786   \n",
      "49           0.49                 0.224032            0.251935  0.475968   \n",
      "\n",
      "           P         H  \n",
      "0   0.499713  0.269728  \n",
      "1   0.484293  0.205013  \n",
      "2   0.486404  0.212868  \n",
      "3   0.487364  0.216534  \n",
      "4   0.519300  0.384081  \n",
      "5   0.500844  0.275223  \n",
      "6   0.518083  0.375600  \n",
      "7   0.451978  0.113722  \n",
      "8   0.502216  0.282044  \n",
      "9   0.504988  0.296377  \n",
      "10  0.504709  0.294897  \n",
      "11  0.505221  0.297614  \n",
      "12  0.492338  0.236557  \n",
      "13  0.439422  0.089255  \n",
      "14  0.510070  0.324711  \n",
      "15  0.521876  0.402774  \n",
      "16  0.446712  0.102864  \n",
      "17  0.461868  0.136747  \n",
      "18  0.522722  0.409144  \n",
      "19  0.510910  0.329665  \n",
      "20  0.503175  0.286915  \n",
      "21  0.531252  0.480414  \n",
      "22  0.523672  0.416435  \n",
      "23  0.491513  0.233115  \n",
      "24  0.482167  0.197385  \n",
      "25  0.510177  0.325333  \n",
      "26  0.495122  0.248561  \n",
      "27  0.518452  0.378148  \n",
      "28  0.468136  0.153355  \n",
      "29  0.524029  0.419214  \n",
      "30  0.506286  0.303351  \n",
      "31  0.462788  0.139081  \n",
      "32  0.448935  0.107338  \n",
      "33  0.477775  0.182479  \n",
      "34  0.461684  0.136283  \n",
      "35  0.446017  0.101497  \n",
      "36  0.505381  0.298468  \n",
      "37  0.448098  0.105635  \n",
      "38  0.465519  0.146214  \n",
      "39  0.459943  0.131973  \n",
      "40  0.453237  0.116453  \n",
      "41  0.464881  0.144519  \n",
      "42  0.497841  0.260882  \n",
      "43  0.524143  0.420105  \n",
      "44  0.437994  0.086768  \n",
      "45  0.519720  0.387061  \n",
      "46  0.451699  0.113124  \n",
      "47  0.503431  0.288234  \n",
      "48  0.474214  0.171175  \n",
      "49  0.524032  0.419238  \n"
     ]
    }
   ],
   "source": [
    "# YOUR CODE HERE\n",
    "initial_guess = [0, 0, 0]\n",
    "\n",
    "df_after_merger = pd.DataFrame(columns = ['c_merged_firm', \n",
    "                                          'output_non_merging_firm', \n",
    "                                          'output_merged_firm', \n",
    "                                          'Q', \n",
    "                                          'P', \n",
    "                                          'H'])\n",
    "\n",
    "c_am = np.arange(0, .51, .01)\n",
    "\n",
    "for i in range(0,50):\n",
    "    df_after_merger.loc[i] = [c_am[i], q1_after_merger[i], \n",
    "                              q2_after_merger[i], \n",
    "                              (q1_after_merger[i]+q2_after_merger[i]), \n",
    "                              (1-(q1_after_merger[i]+q2_after_merger[i])), \n",
    "                             ((q1_after_merger[i]/(q1_after_merger[i]+q2_after_merger[i]))**2 + (q1_after_merger[i]/(q2_after_merger[i]+q2_after_merger[i]))**2 )]\n",
    "\n",
    "\n",
    "print(df_after_merger)"
   ]
  },
  {
   "cell_type": "markdown",
   "metadata": {},
   "source": [
    "#### e) [0.5 points] Make a histogram of the equilibrium price `P` after the merger. Also indicate in the histogram the equilibrium price before the merger `P0`. Label the horizontal axis with $P$.\n",
    "\n",
    "[hint: you may want to use matplotlib's `hist`, `vlines` and `legend` to make this graph (e.g use google to find these functions); but feel free to use something else]"
   ]
  },
  {
   "cell_type": "code",
   "execution_count": 8,
   "metadata": {
    "deletable": false,
    "nbgrader": {
     "checksum": "b103cd98545261b20f937f4b9db67f68",
     "grade": true,
     "grade_id": "cell-f9193bf8e71f1a9a",
     "locked": false,
     "points": 0.5,
     "schema_version": 1,
     "solution": true
    }
   },
   "outputs": [
    {
     "data": {
      "text/plain": [
       "<matplotlib.legend.Legend at 0x1d4fa0c0f60>"
      ]
     },
     "execution_count": 8,
     "metadata": {},
     "output_type": "execute_result"
    },
    {
     "data": {
      "image/png": "[encoded data removed]",
      "text/plain": [
       "<matplotlib.figure.Figure at 0x1d4fa054240>"
      ]
     },
     "metadata": {},
     "output_type": "display_data"
    }
   ],
   "source": [
    "# YOUR CODE HERE\n",
    "import numpy as np\n",
    "import matplotlib.pyplot as plt\n",
    "\n",
    "df_after_merger.hist(column = 'P', color = \"red\")\n",
    "plt.axvline(P0, c = \"black\", linewidth = 1.5, label = \"P0\")\n",
    "plt.legend()"
   ]
  },
  {
   "cell_type": "markdown",
   "metadata": {},
   "source": [
    "#### f) [0.5 points] Explain why sometimes the equilibrium price after the merger exceeds the equilibrium price before the merger and sometimes it is lower than the pre-merger price. [hint: there is a trade off between two effects, depending on which effect dominates, equilibrium price increases or decreases after the merger]"
   ]
  },
  {
   "cell_type": "markdown",
   "metadata": {
    "deletable": false,
    "nbgrader": {
     "checksum": "dd9fc721b7cf7f66587e93cbfb758034",
     "grade": true,
     "grade_id": "cell-7a1f367cd2854156",
     "locked": false,
     "points": 0.5,
     "schema_version": 1,
     "solution": true
    }
   },
   "source": [
    "In these cases, there are trade offs between the income and substitution effect,which take place when mergers occur, and  determine where the new price will be compared to old equilibrium."
   ]
  },
  {
   "cell_type": "markdown",
   "metadata": {
    "deletable": false,
    "editable": false,
    "nbgrader": {
     "checksum": "e1e41dbf14c605bf91cdc78f70eada99",
     "grade": false,
     "grade_id": "cell-06ed6044f8938a45",
     "locked": true,
     "schema_version": 1,
     "solution": false
    }
   },
   "source": [
    "#### g) [0.5 points] Make a graph with the Herfindahl index on the horizontal axis and the equilibrium price on the vertical axis. This is straightforward for $(H,P)$ after the merger as both values are in the dataframe. Add in another color, the pre-merger combination `(H0,P0)` that we calculated above."
   ]
  },
  {
   "cell_type": "code",
   "execution_count": 9,
   "metadata": {
    "deletable": false,
    "nbgrader": {
     "checksum": "51cfaacbaf533e85d9794bc74712afd5",
     "grade": true,
     "grade_id": "cell-d647464d04870b73",
     "locked": false,
     "points": 0.5,
     "schema_version": 1,
     "solution": true
    }
   },
   "outputs": [
    {
     "data": {
      "text/plain": [
       "[<matplotlib.lines.Line2D at 0x1d4fa2a75c0>]"
      ]
     },
     "execution_count": 9,
     "metadata": {},
     "output_type": "execute_result"
    },
    {
     "data": {
      "image/png": "[encoded data removed]",
      "text/plain": [
       "<matplotlib.figure.Figure at 0x1d4fa257908>"
      ]
     },
     "metadata": {},
     "output_type": "display_data"
    }
   ],
   "source": [
    "# YOUR CODE HERE\n",
    "import matplotlib.pyplot as plt\n",
    "\n",
    "plt.title(\"Graph\")\n",
    "plt.plot(df_after_merger.H, df_after_merger.P, color = \"black\", linewidth = 0.5)\n",
    "plt.plot(H0, P0, \"ro\")\n"
   ]
  },
  {
   "cell_type": "markdown",
   "metadata": {
    "deletable": false,
    "editable": false,
    "nbgrader": {
     "checksum": "11b6609131b1c25886f2c6cafe0f7a59",
     "grade": false,
     "grade_id": "cell-5c5e5776a7c135a2",
     "locked": true,
     "schema_version": 1,
     "solution": false
    }
   },
   "source": [
    "#### h) [0.5 points] Use the graph under g) to discuss the relation between the Herfindahl index and the equilibrium price. To illustrate, some people think that lower values of the Herfindahl index are associated with more competitive outcome. Would you agree with this?"
   ]
  },
  {
   "cell_type": "markdown",
   "metadata": {
    "collapsed": true,
    "deletable": false,
    "nbgrader": {
     "checksum": "3d396887dde3b00420c623b9f4ea8ed2",
     "grade": true,
     "grade_id": "cell-cbd89d483b23a953",
     "locked": false,
     "points": 0.5,
     "schema_version": 1,
     "solution": true
    }
   },
   "source": [
    "Herfindahl Index is a measure of size of firm inrelation to industry. It is used as an indicator of ammount of competition between firms. \n",
    "\n",
    "The statement is true. Herfindahl Index ranges from 1/N to 1, where N signifies number of firms in amarket. The greater the competition  (associated with number of firms), the smaller the Herfindahl Index will be."
   ]
  },
  {
   "cell_type": "markdown",
   "metadata": {},
   "source": [
    "## Github\n",
    "\n",
    "After you have finished, we need to upload this notebook on github. Make sure that you upload the file on the github page of each collaborator."
   ]
  },
  {
   "cell_type": "markdown",
   "metadata": {},
   "source": [
    "Instructions on how to upload this on github can be found [on this page](http://janboone.github.io/programming-for-economists/github.html). This page has two screencasts: one shows how to drag the notebook onto your github page, the other shows how you can use the command line to upload your notebook.\n"
   ]
  },
  {
   "cell_type": "markdown",
   "metadata": {},
   "source": [
    "Remember to update the README file in your repository to include a link to this notebook on github.\n",
    "\n",
    "\n",
    "The links that you should post start with “github.com/” and are NOT of the form “http://localhost”. Make sure you test your links after uploading."
   ]
  },
  {
   "cell_type": "code",
   "execution_count": null,
   "metadata": {
    "collapsed": true
   },
   "outputs": [],
   "source": []
  }
 ],
 "metadata": {
  "anaconda-cloud": {},
  "kernelspec": {
   "display_name": "Python 3",
   "language": "python",
   "name": "python3"
  },
  "language_info": {
   "codemirror_mode": {
    "name": "ipython",
    "version": 3
   },
   "file_extension": ".py",
   "mimetype": "text/x-python",
   "name": "python",
   "nbconvert_exporter": "python",
   "pygments_lexer": "ipython3",
   "version": "3.6.4"
  }
 },
 "nbformat": 4,
 "nbformat_minor": 1
}
